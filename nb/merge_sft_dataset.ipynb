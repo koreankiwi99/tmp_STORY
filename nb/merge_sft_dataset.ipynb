{
 "cells": [
  {
   "cell_type": "code",
   "execution_count": 31,
   "metadata": {},
   "outputs": [],
   "source": [
    "import os\n",
    "import json\n",
    "import pandas as pd\n",
    "from ast import literal_eval\n",
    "import random"
   ]
  },
  {
   "cell_type": "markdown",
   "metadata": {},
   "source": [
    "### Format Metadata"
   ]
  },
  {
   "cell_type": "code",
   "execution_count": 32,
   "metadata": {},
   "outputs": [
    {
     "data": {
      "text/html": [
       "<div>\n",
       "<style scoped>\n",
       "    .dataframe tbody tr th:only-of-type {\n",
       "        vertical-align: middle;\n",
       "    }\n",
       "\n",
       "    .dataframe tbody tr th {\n",
       "        vertical-align: top;\n",
       "    }\n",
       "\n",
       "    .dataframe thead th {\n",
       "        text-align: right;\n",
       "    }\n",
       "</style>\n",
       "<table border=\"1\" class=\"dataframe\">\n",
       "  <thead>\n",
       "    <tr style=\"text-align: right;\">\n",
       "      <th></th>\n",
       "      <th>Unnamed: 0.1</th>\n",
       "      <th>Unnamed: 0</th>\n",
       "      <th>title</th>\n",
       "      <th>release_date</th>\n",
       "      <th>revenue</th>\n",
       "      <th>runtime</th>\n",
       "      <th>adult</th>\n",
       "      <th>budget</th>\n",
       "      <th>overview</th>\n",
       "      <th>popularity</th>\n",
       "      <th>poster_path</th>\n",
       "      <th>genres</th>\n",
       "      <th>keywords</th>\n",
       "      <th>year</th>\n",
       "      <th>actors</th>\n",
       "      <th>emotions</th>\n",
       "      <th>director</th>\n",
       "    </tr>\n",
       "    <tr>\n",
       "      <th>id</th>\n",
       "      <th></th>\n",
       "      <th></th>\n",
       "      <th></th>\n",
       "      <th></th>\n",
       "      <th></th>\n",
       "      <th></th>\n",
       "      <th></th>\n",
       "      <th></th>\n",
       "      <th></th>\n",
       "      <th></th>\n",
       "      <th></th>\n",
       "      <th></th>\n",
       "      <th></th>\n",
       "      <th></th>\n",
       "      <th></th>\n",
       "      <th></th>\n",
       "      <th></th>\n",
       "    </tr>\n",
       "  </thead>\n",
       "  <tbody>\n",
       "    <tr>\n",
       "      <th>565770</th>\n",
       "      <td>0</td>\n",
       "      <td>0</td>\n",
       "      <td>Blue Beetle</td>\n",
       "      <td>2023-08-16</td>\n",
       "      <td>124818235</td>\n",
       "      <td>128</td>\n",
       "      <td>False</td>\n",
       "      <td>120000000</td>\n",
       "      <td>Recent college grad Jaime Reyes returns home f...</td>\n",
       "      <td>2994.357</td>\n",
       "      <td>/mXLOHHc1Zeuwsl4xYKjKh2280oL.jpg</td>\n",
       "      <td>['Action', 'Science Fiction', 'Adventure']</td>\n",
       "      <td>armor, superhero, family relationships, family...</td>\n",
       "      <td>2023</td>\n",
       "      <td>['Xolo Mariduena', 'Bruna Marquezine', 'Susan ...</td>\n",
       "      <td>['excitement', 'pride', 'inspiration']</td>\n",
       "      <td>Ángel Manuel Soto</td>\n",
       "    </tr>\n",
       "    <tr>\n",
       "      <th>980489</th>\n",
       "      <td>1</td>\n",
       "      <td>1</td>\n",
       "      <td>Gran Turismo</td>\n",
       "      <td>2023-08-09</td>\n",
       "      <td>114800000</td>\n",
       "      <td>135</td>\n",
       "      <td>False</td>\n",
       "      <td>60000000</td>\n",
       "      <td>The ultimate wish-fulfillment tale of a teenag...</td>\n",
       "      <td>2680.593</td>\n",
       "      <td>/51tqzRtKMMZEYUpSYkrUE7v9ehm.jpg</td>\n",
       "      <td>['Action', 'Drama', 'Adventure']</td>\n",
       "      <td>based on true story, racing, based on video ga...</td>\n",
       "      <td>2023</td>\n",
       "      <td>['Archie Madekwe', 'David Harbour', 'Orlando B...</td>\n",
       "      <td>['tension', 'determination', 'hope']</td>\n",
       "      <td>Neill Blomkamp</td>\n",
       "    </tr>\n",
       "    <tr>\n",
       "      <th>968051</th>\n",
       "      <td>3</td>\n",
       "      <td>3</td>\n",
       "      <td>The Nun II</td>\n",
       "      <td>2023-09-06</td>\n",
       "      <td>231200000</td>\n",
       "      <td>110</td>\n",
       "      <td>False</td>\n",
       "      <td>38500000</td>\n",
       "      <td>In 1956 France, a priest is violently murdered...</td>\n",
       "      <td>1692.778</td>\n",
       "      <td>/c9kVD7W8CT5xe4O3hQ7bFWwk68U.jpg</td>\n",
       "      <td>['Horror', 'Mystery', 'Thriller']</td>\n",
       "      <td>france, bullying, sequel, religion, demon, got...</td>\n",
       "      <td>2023</td>\n",
       "      <td>['Taissa Farmiga', 'Jonas Bloquet', 'Storm Rei...</td>\n",
       "      <td>['fear', 'suspense', 'dread']</td>\n",
       "      <td>Michael Chaves</td>\n",
       "    </tr>\n",
       "    <tr>\n",
       "      <th>615656</th>\n",
       "      <td>4</td>\n",
       "      <td>4</td>\n",
       "      <td>Meg 2: The Trench</td>\n",
       "      <td>2023-08-02</td>\n",
       "      <td>384056482</td>\n",
       "      <td>116</td>\n",
       "      <td>False</td>\n",
       "      <td>129000000</td>\n",
       "      <td>An exploratory dive into the deepest depths of...</td>\n",
       "      <td>1567.273</td>\n",
       "      <td>/4m1Au3YkjqsxF8iwQy0fPYSxE0h.jpg</td>\n",
       "      <td>['Action', 'Science Fiction', 'Horror']</td>\n",
       "      <td>based on novel or book, sequel, shark, kaiju, ...</td>\n",
       "      <td>2023</td>\n",
       "      <td>['Jason Statham', 'Wu Jing', 'Shuya Sophia Cai...</td>\n",
       "      <td>['fear', 'adrenaline', 'awe']</td>\n",
       "      <td>Ben Wheatley</td>\n",
       "    </tr>\n",
       "    <tr>\n",
       "      <th>762430</th>\n",
       "      <td>5</td>\n",
       "      <td>5</td>\n",
       "      <td>Retribution</td>\n",
       "      <td>2023-08-23</td>\n",
       "      <td>12905464</td>\n",
       "      <td>91</td>\n",
       "      <td>False</td>\n",
       "      <td>20000000</td>\n",
       "      <td>When a mysterious caller puts a bomb under his...</td>\n",
       "      <td>1547.220</td>\n",
       "      <td>/oUmmY7QWWn7OhKlcPOnirHJpP1F.jpg</td>\n",
       "      <td>['Action', 'Mystery', 'Thriller', 'Crime']</td>\n",
       "      <td>assassination, bomb, remake, divorce, duringcr...</td>\n",
       "      <td>2023</td>\n",
       "      <td>['Liam Neeson', 'Lilly Aspell', 'Jack Champion...</td>\n",
       "      <td>['anger', 'revenge', 'justice']</td>\n",
       "      <td>Nimród Antal</td>\n",
       "    </tr>\n",
       "  </tbody>\n",
       "</table>\n",
       "</div>"
      ],
      "text/plain": [
       "        Unnamed: 0.1  Unnamed: 0              title release_date    revenue  \\\n",
       "id                                                                            \n",
       "565770             0           0        Blue Beetle   2023-08-16  124818235   \n",
       "980489             1           1       Gran Turismo   2023-08-09  114800000   \n",
       "968051             3           3         The Nun II   2023-09-06  231200000   \n",
       "615656             4           4  Meg 2: The Trench   2023-08-02  384056482   \n",
       "762430             5           5        Retribution   2023-08-23   12905464   \n",
       "\n",
       "        runtime  adult     budget  \\\n",
       "id                                  \n",
       "565770      128  False  120000000   \n",
       "980489      135  False   60000000   \n",
       "968051      110  False   38500000   \n",
       "615656      116  False  129000000   \n",
       "762430       91  False   20000000   \n",
       "\n",
       "                                                 overview  popularity  \\\n",
       "id                                                                      \n",
       "565770  Recent college grad Jaime Reyes returns home f...    2994.357   \n",
       "980489  The ultimate wish-fulfillment tale of a teenag...    2680.593   \n",
       "968051  In 1956 France, a priest is violently murdered...    1692.778   \n",
       "615656  An exploratory dive into the deepest depths of...    1567.273   \n",
       "762430  When a mysterious caller puts a bomb under his...    1547.220   \n",
       "\n",
       "                             poster_path  \\\n",
       "id                                         \n",
       "565770  /mXLOHHc1Zeuwsl4xYKjKh2280oL.jpg   \n",
       "980489  /51tqzRtKMMZEYUpSYkrUE7v9ehm.jpg   \n",
       "968051  /c9kVD7W8CT5xe4O3hQ7bFWwk68U.jpg   \n",
       "615656  /4m1Au3YkjqsxF8iwQy0fPYSxE0h.jpg   \n",
       "762430  /oUmmY7QWWn7OhKlcPOnirHJpP1F.jpg   \n",
       "\n",
       "                                            genres  \\\n",
       "id                                                   \n",
       "565770  ['Action', 'Science Fiction', 'Adventure']   \n",
       "980489            ['Action', 'Drama', 'Adventure']   \n",
       "968051           ['Horror', 'Mystery', 'Thriller']   \n",
       "615656     ['Action', 'Science Fiction', 'Horror']   \n",
       "762430  ['Action', 'Mystery', 'Thriller', 'Crime']   \n",
       "\n",
       "                                                 keywords  year  \\\n",
       "id                                                                \n",
       "565770  armor, superhero, family relationships, family...  2023   \n",
       "980489  based on true story, racing, based on video ga...  2023   \n",
       "968051  france, bullying, sequel, religion, demon, got...  2023   \n",
       "615656  based on novel or book, sequel, shark, kaiju, ...  2023   \n",
       "762430  assassination, bomb, remake, divorce, duringcr...  2023   \n",
       "\n",
       "                                                   actors  \\\n",
       "id                                                          \n",
       "565770  ['Xolo Mariduena', 'Bruna Marquezine', 'Susan ...   \n",
       "980489  ['Archie Madekwe', 'David Harbour', 'Orlando B...   \n",
       "968051  ['Taissa Farmiga', 'Jonas Bloquet', 'Storm Rei...   \n",
       "615656  ['Jason Statham', 'Wu Jing', 'Shuya Sophia Cai...   \n",
       "762430  ['Liam Neeson', 'Lilly Aspell', 'Jack Champion...   \n",
       "\n",
       "                                      emotions           director  \n",
       "id                                                                 \n",
       "565770  ['excitement', 'pride', 'inspiration']  Ángel Manuel Soto  \n",
       "980489    ['tension', 'determination', 'hope']     Neill Blomkamp  \n",
       "968051           ['fear', 'suspense', 'dread']     Michael Chaves  \n",
       "615656           ['fear', 'adrenaline', 'awe']       Ben Wheatley  \n",
       "762430         ['anger', 'revenge', 'justice']       Nimród Antal  "
      ]
     },
     "execution_count": 32,
     "metadata": {},
     "output_type": "execute_result"
    }
   ],
   "source": [
    "metadata_path = \"../data/movie_metadata.csv\"\n",
    "metadata_df = pd.read_csv(metadata_path)\n",
    "metadata_df.set_index(\"id\", inplace=True)\n",
    "metadata_df.head()"
   ]
  },
  {
   "cell_type": "code",
   "execution_count": 33,
   "metadata": {},
   "outputs": [],
   "source": [
    "def format_metadata(row):\n",
    "    def safe_eval(val):\n",
    "        try:\n",
    "            return \", \".join(literal_eval(val)) if isinstance(val, str) else \"\"\n",
    "        except:\n",
    "            return \"\"\n",
    "    \n",
    "    return f\"\"\"Title: {row['title']}\n",
    "            Genres: {safe_eval(row.get('genres', ''))}\n",
    "            Tags: {row.get('keywords', '')}\n",
    "            Actors: {safe_eval(row.get('actors', ''))}\n",
    "            Emotion Tags: {safe_eval(row.get('emotions', ''))}\n",
    "            Overview: {row.get('overview', '')}\"\"\""
   ]
  },
  {
   "cell_type": "markdown",
   "metadata": {},
   "source": [
    "### Json/Jsonl Loaders"
   ]
  },
  {
   "cell_type": "code",
   "execution_count": 34,
   "metadata": {},
   "outputs": [],
   "source": [
    "def load_json_array(filepath):\n",
    "    try:\n",
    "        with open(filepath, \"r\", encoding=\"utf-8\") as f:\n",
    "            return json.load(f)\n",
    "    except Exception as e:\n",
    "        print(f\"Skipping file {filepath} due to error: {e}\")\n",
    "        return []\n",
    "\n",
    "def load_json_lines(filepath):\n",
    "    try:\n",
    "        with open(filepath, \"r\", encoding=\"utf-8\") as f:\n",
    "            return [json.loads(line.strip()) for line in f if line.strip()]\n",
    "    except Exception as e:\n",
    "        print(f\"Skipping file {filepath} due to error: {e}\")\n",
    "        return []"
   ]
  },
  {
   "cell_type": "markdown",
   "metadata": {},
   "source": [
    "### Clarification Batches"
   ]
  },
  {
   "cell_type": "code",
   "execution_count": 35,
   "metadata": {},
   "outputs": [],
   "source": [
    "clarification_data = []\n",
    "clarification_dir = \"../data/clarification_batches\"\n",
    "\n",
    "for file in os.listdir(clarification_dir):\n",
    "    if file.endswith(\".json\"):\n",
    "        path = os.path.join(clarification_dir, file)\n",
    "        samples = load_json_array(path)\n",
    "        for sample in samples:\n",
    "            clarification_data.append({\n",
    "                \"instruction\": sample[\"instruction\"],\n",
    "                \"input\": \"\",\n",
    "                \"output\": sample[\"output\"]\n",
    "            })"
   ]
  },
  {
   "cell_type": "code",
   "execution_count": 36,
   "metadata": {},
   "outputs": [
    {
     "data": {
      "text/plain": [
       "{'instruction': 'Looking for something fun to watch tonight',\n",
       " 'input': '',\n",
       " 'output': 'Hey! Are you in the mood for a laugh, some action, or maybe a bit of drama? 🎭'}"
      ]
     },
     "execution_count": 36,
     "metadata": {},
     "output_type": "execute_result"
    }
   ],
   "source": [
    "clarification_data[0]"
   ]
  },
  {
   "cell_type": "code",
   "execution_count": 37,
   "metadata": {},
   "outputs": [
    {
     "data": {
      "text/plain": [
       "300"
      ]
     },
     "execution_count": 37,
     "metadata": {},
     "output_type": "execute_result"
    }
   ],
   "source": [
    "len(clarification_data)"
   ]
  },
  {
   "cell_type": "markdown",
   "metadata": {},
   "source": [
    "### Direct Recommendation"
   ]
  },
  {
   "cell_type": "code",
   "execution_count": 38,
   "metadata": {},
   "outputs": [],
   "source": [
    "def convert_direct_dataset(folder_path):\n",
    "    data = []\n",
    "    for file in os.listdir(folder_path):\n",
    "        if file.endswith(\".jsonl\"):\n",
    "            movie_id = int(os.path.splitext(file)[0])\n",
    "            if movie_id not in metadata_df.index:\n",
    "                continue\n",
    "            metadata = format_metadata(metadata_df.loc[movie_id])\n",
    "            path = os.path.join(folder_path, file)\n",
    "            samples = load_json_lines(path)\n",
    "            for sample in samples:\n",
    "                data.append({\n",
    "                    \"instruction\": sample[\"instruction\"],\n",
    "                    \"input\": metadata,\n",
    "                    \"output\": sample[\"output\"]\n",
    "                })\n",
    "    return data\n",
    "\n",
    "simple_direct_dir = \"../data/simple_recommendation_batches\"\n",
    "specific_direct_dir = \"../data/specific_recommendation_batches\"\n",
    "\n",
    "simple_direct_data = convert_direct_dataset(simple_direct_dir)\n",
    "specific_direct_data = convert_direct_dataset(specific_direct_dir)"
   ]
  },
  {
   "cell_type": "code",
   "execution_count": 39,
   "metadata": {},
   "outputs": [
    {
     "data": {
      "text/plain": [
       "{'instruction': 'looking for a scary movie with a killer mask and some mystery',\n",
       " 'input': \"Title: Scream 4\\n            Genres: Horror, Mystery\\n            Tags: rescue, mask, sheriff, jealousy, victim, knife, self-inflicted injury, sociopath, murder, house party, teen movie, serial killer, author, hospital, slasher, home invasion, self-referential, cousin cousin relationship, phone call, millennials, publicist, fame-seeking, new generation, return to hometown, masked killer, remakes\\n            Actors: David Arquette, Neve Campbell, Courteney Cox, Emma Roberts, Hayden Panettiere, Anthony Anderson, Adam Brody, Rory Culkin, Mary McDonnell, Marley Shelton, Alison Brie, Marielle Jaffe, Nico Tortorella, Erik Knudsen, Anna Paquin, Kristen Bell, Lucy Hale, Shenae Grimes-Beech, Britt Robertson, Aimee Teegarden, Roger L. Jackson, Nancy O'Dell, Justin Michael Brandt, Dane Farwell, Gordon Michaels, John Lepard, Kim Adams, Devin Scillian, Mark Aaron Buerkle, Julia Ho, Alexander Punch, Glenda Lewis, William Spencer, Tim Doty, Peter Carey, Wes Craven, Elliott Jo Sinclair\\n            Emotion Tags: fear, revenge\\n            Overview: Sidney returns home to Woodsboro on the last stop of her book tour, which brings about the return of Ghost Face and puts her family, friends, and the whole town in danger.\",\n",
       " 'output': 'If you’re into creepy masked killers and tons of suspense, you’ve got to check out Scream 4! It’s got all the thrills and chills with a killer mystery that’ll keep you on the edge of your seat 😱🎬🔪.'}"
      ]
     },
     "execution_count": 39,
     "metadata": {},
     "output_type": "execute_result"
    }
   ],
   "source": [
    "simple_direct_data[0]"
   ]
  },
  {
   "cell_type": "code",
   "execution_count": 40,
   "metadata": {},
   "outputs": [
    {
     "data": {
      "text/plain": [
       "{'instruction': 'an intense crime thriller with a gritty vibe about a heist gone wrong and a hunt for buried cash, preferably featuring complex characters and lots of tension',\n",
       " 'input': 'Title: Paydirt\\n            Genres: Action, Crime, Thriller\\n            Tags: nan\\n            Actors: Luke Goss, Val Kilmer, Mike Hatton, Paul Sloan, Nick Vallelonga, Mirtha Michelle, Veronika Bozeman, Murielle Telio, Mercedes Kilmer, Lorin McCraley, Mary Christina Brown, Teodora Djuric, Mark Sherman, Jay Montalvo, Mara Fimbres\\n            Emotion Tags: darkness, madness, tension\\n            Overview: A parolee teams up with his old crew determined to find a buried bag of cash stolen a decade ago from a DEA bust gone bad, while being tracked by a retired Sheriff.',\n",
       " 'output': 'If you’re craving a gritty crime thriller packed with tension and a twisted hunt for stolen cash, you’ve gotta check out Paydirt! 💥 Luke Goss and Val Kilmer bring some serious edge as a parolee and his crew digging up a dark past. Perfect if you love that mad, dark vibe with plenty of twists! 🎬'}"
      ]
     },
     "execution_count": 40,
     "metadata": {},
     "output_type": "execute_result"
    }
   ],
   "source": [
    "specific_direct_data[0]"
   ]
  },
  {
   "cell_type": "code",
   "execution_count": 41,
   "metadata": {},
   "outputs": [
    {
     "data": {
      "text/plain": [
       "(12363, 2085)"
      ]
     },
     "execution_count": 41,
     "metadata": {},
     "output_type": "execute_result"
    }
   ],
   "source": [
    "len(simple_direct_data), len(specific_direct_data)"
   ]
  },
  {
   "cell_type": "markdown",
   "metadata": {},
   "source": [
    "### Multi-turn Dataset"
   ]
  },
  {
   "cell_type": "code",
   "execution_count": 42,
   "metadata": {},
   "outputs": [],
   "source": [
    "# STEP 4: Process all multi-turn samples\n",
    "multi_turn_data = []\n",
    "multi_turn_dir = \"../data/multi_turn_recommendation_batches\"  \n",
    "\n",
    "for file in os.listdir(multi_turn_dir):\n",
    "    if file.endswith(\".jsonl\"):\n",
    "        try:\n",
    "            movie_id = int(os.path.splitext(file)[0])\n",
    "        except ValueError:\n",
    "            print(f\"Skipping invalid filename: {file}\")\n",
    "            continue\n",
    "\n",
    "        if movie_id not in metadata_df.index:\n",
    "            print(f\"Skipping unknown movie ID: {movie_id}\")\n",
    "            continue\n",
    "\n",
    "        metadata = format_metadata(metadata_df.loc[movie_id])\n",
    "        file_path = os.path.join(multi_turn_dir, file)\n",
    "        samples = load_json_lines(file_path)\n",
    "\n",
    "        for sample in samples:\n",
    "            convo = sample.get(\"conversation\", [])\n",
    "            if not convo or len(convo) < 2:\n",
    "                continue\n",
    "\n",
    "            # Flatten turns except last assistant reply\n",
    "            turns = [f\"{'User' if t['role'] == 'user' else 'Assistant'}: {t['content']}\" for t in convo[:-1]]\n",
    "            instruction = \"\\n\".join(turns)\n",
    "            output = convo[-1][\"content\"]\n",
    "\n",
    "            multi_turn_data.append({\n",
    "                \"instruction\": instruction,\n",
    "                \"input\": metadata,\n",
    "                \"output\": output\n",
    "            })"
   ]
  },
  {
   "cell_type": "code",
   "execution_count": 43,
   "metadata": {},
   "outputs": [
    {
     "data": {
      "text/plain": [
       "{'instruction': \"User: I'm in the mood for a scary movie with a strong mystery plot.\\nAssistant: Do you prefer a classic slasher vibe or something with a modern twist?\\nUser: I'd love a movie that brings back some nostalgia but also feels fresh and has a killer mystery.\",\n",
       " 'input': \"Title: Scream 4\\n            Genres: Horror, Mystery\\n            Tags: rescue, mask, sheriff, jealousy, victim, knife, self-inflicted injury, sociopath, murder, house party, teen movie, serial killer, author, hospital, slasher, home invasion, self-referential, cousin cousin relationship, phone call, millennials, publicist, fame-seeking, new generation, return to hometown, masked killer, remakes\\n            Actors: David Arquette, Neve Campbell, Courteney Cox, Emma Roberts, Hayden Panettiere, Anthony Anderson, Adam Brody, Rory Culkin, Mary McDonnell, Marley Shelton, Alison Brie, Marielle Jaffe, Nico Tortorella, Erik Knudsen, Anna Paquin, Kristen Bell, Lucy Hale, Shenae Grimes-Beech, Britt Robertson, Aimee Teegarden, Roger L. Jackson, Nancy O'Dell, Justin Michael Brandt, Dane Farwell, Gordon Michaels, John Lepard, Kim Adams, Devin Scillian, Mark Aaron Buerkle, Julia Ho, Alexander Punch, Glenda Lewis, William Spencer, Tim Doty, Peter Carey, Wes Craven, Elliott Jo Sinclair\\n            Emotion Tags: fear, revenge\\n            Overview: Sidney returns home to Woodsboro on the last stop of her book tour, which brings about the return of Ghost Face and puts her family, friends, and the whole town in danger.\",\n",
       " 'output': 'You should definitely watch Scream 4! 🎬 It brings Sidney back home with a fresh take on the iconic Ghost Face mystery, blending classic horror vibes with a new generation’s thrills. Perfect for a night of scares and suspense! 😱❤️'}"
      ]
     },
     "execution_count": 43,
     "metadata": {},
     "output_type": "execute_result"
    }
   ],
   "source": [
    "multi_turn_data[0]"
   ]
  },
  {
   "cell_type": "code",
   "execution_count": 44,
   "metadata": {},
   "outputs": [
    {
     "data": {
      "text/plain": [
       "(4502, 4506)"
      ]
     },
     "execution_count": 44,
     "metadata": {},
     "output_type": "execute_result"
    }
   ],
   "source": [
    "len(multi_turn_data), len(os.listdir(multi_turn_dir))"
   ]
  },
  {
   "cell_type": "markdown",
   "metadata": {},
   "source": [
    "### Sample and Format"
   ]
  },
  {
   "cell_type": "code",
   "execution_count": 45,
   "metadata": {},
   "outputs": [],
   "source": [
    "random.seed(42)  # For reproducibility\n",
    "\n",
    "# Sample 10K from your full sets\n",
    "clar_subset = clarification_data  # all 300\n",
    "simple_subset = random.sample(simple_direct_data, 5000)\n",
    "spec_subset = random.sample(specific_direct_data, 1500)\n",
    "multi_subset = random.sample(multi_turn_data, 3200)\n",
    "\n",
    "# Combine\n",
    "quantization_samples = clar_subset + simple_subset + spec_subset + multi_subset"
   ]
  },
  {
   "cell_type": "code",
   "execution_count": 46,
   "metadata": {},
   "outputs": [],
   "source": [
    "huggingface_format_data = []\n",
    "\n",
    "for example in quantization_samples:\n",
    "    user_msg = example[\"instruction\"]\n",
    "    if example[\"input\"]:\n",
    "        user_msg += \"\\n\\n\" + example[\"input\"]\n",
    "\n",
    "    huggingface_format_data.append({\n",
    "        \"messages\": [\n",
    "            {\"role\": \"system\", \"content\": \"You are a helpful assistant.\"},\n",
    "            {\"role\": \"user\", \"content\": user_msg},\n",
    "            {\"role\": \"assistant\", \"content\": example[\"output\"]}\n",
    "        ]\n",
    "    })"
   ]
  },
  {
   "cell_type": "code",
   "execution_count": 47,
   "metadata": {},
   "outputs": [],
   "source": [
    "with open(\"../data/llama3_quant_10k_hf_chat.jsonl\", \"w\", encoding=\"utf-8\") as f:\n",
    "    for item in huggingface_format_data:\n",
    "        json.dump(item, f, ensure_ascii=False)\n",
    "        f.write(\"\\n\")"
   ]
  }
 ],
 "metadata": {
  "kernelspec": {
   "display_name": "ada",
   "language": "python",
   "name": "python3"
  },
  "language_info": {
   "codemirror_mode": {
    "name": "ipython",
    "version": 3
   },
   "file_extension": ".py",
   "mimetype": "text/x-python",
   "name": "python",
   "nbconvert_exporter": "python",
   "pygments_lexer": "ipython3",
   "version": "3.11.8"
  }
 },
 "nbformat": 4,
 "nbformat_minor": 2
}
