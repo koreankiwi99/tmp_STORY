{
 "cells": [
  {
   "cell_type": "code",
   "execution_count": 1,
   "id": "276adc63-905a-498d-983f-f557f87b882b",
   "metadata": {},
   "outputs": [],
   "source": [
    "from neo4j import GraphDatabase\n",
    "import pandas as pd\n",
    "import ast"
   ]
  },
  {
   "cell_type": "code",
   "execution_count": null,
   "id": "427473f6-8700-4798-918f-0c50cd64edb8",
   "metadata": {},
   "outputs": [],
   "source": [
    "uri      = \"bolt://localhost:7687\"\n",
    "username = \"neo4j\"\n",
    "password = \"linasadgal\"\n",
    "driver   = GraphDatabase.driver(uri, auth=(username, password))"
   ]
  },
  {
   "cell_type": "code",
   "execution_count": 11,
   "id": "99f97701-b38e-4b5c-8cbe-76daf193bc76",
   "metadata": {},
   "outputs": [
    {
     "data": {
      "text/plain": [
       "(199, 6)"
      ]
     },
     "execution_count": 11,
     "metadata": {},
     "output_type": "execute_result"
    }
   ],
   "source": [
    "df = pd.read_csv('movies.csv')\n",
    "df.shape"
   ]
  },
  {
   "cell_type": "code",
   "execution_count": 13,
   "id": "fd1cd100-7d0c-4aae-acab-79dbfeb29615",
   "metadata": {},
   "outputs": [
    {
     "data": {
      "text/html": [
       "<div>\n",
       "<style scoped>\n",
       "    .dataframe tbody tr th:only-of-type {\n",
       "        vertical-align: middle;\n",
       "    }\n",
       "\n",
       "    .dataframe tbody tr th {\n",
       "        vertical-align: top;\n",
       "    }\n",
       "\n",
       "    .dataframe thead th {\n",
       "        text-align: right;\n",
       "    }\n",
       "</style>\n",
       "<table border=\"1\" class=\"dataframe\">\n",
       "  <thead>\n",
       "    <tr style=\"text-align: right;\">\n",
       "      <th></th>\n",
       "      <th>movie_title</th>\n",
       "      <th>release_year</th>\n",
       "      <th>genres</th>\n",
       "      <th>actors</th>\n",
       "      <th>director</th>\n",
       "      <th>emotions_conveyed</th>\n",
       "    </tr>\n",
       "  </thead>\n",
       "  <tbody>\n",
       "    <tr>\n",
       "      <th>90</th>\n",
       "      <td>Time Out</td>\n",
       "      <td>2023</td>\n",
       "      <td>['Drama']</td>\n",
       "      <td>['Karim Leklou', 'Isaka Sawadogo']</td>\n",
       "      <td>Ève Duchemin</td>\n",
       "      <td>['Isolation', 'Hope', 'Emotional Turmoil']</td>\n",
       "    </tr>\n",
       "    <tr>\n",
       "      <th>125</th>\n",
       "      <td>The Woman King</td>\n",
       "      <td>2022</td>\n",
       "      <td>['Action', 'Drama', 'History']</td>\n",
       "      <td>['Viola Davis', 'Thuso Mbedu']</td>\n",
       "      <td>Gina Prince-Bythewood</td>\n",
       "      <td>['Empowerment', 'Courage', 'Sacrifice']</td>\n",
       "    </tr>\n",
       "    <tr>\n",
       "      <th>99</th>\n",
       "      <td>Love Life</td>\n",
       "      <td>2023</td>\n",
       "      <td>['Drama']</td>\n",
       "      <td>['Fumino Kimura', 'Kento Nagayama']</td>\n",
       "      <td>Kōji Fukada</td>\n",
       "      <td>['Love', 'Loss', 'Resilience']</td>\n",
       "    </tr>\n",
       "    <tr>\n",
       "      <th>27</th>\n",
       "      <td>Parallel Earth</td>\n",
       "      <td>2025</td>\n",
       "      <td>['Sci-Fi', 'Thriller', 'Drama']</td>\n",
       "      <td>['Matt Damon', 'Julianne Moore', 'Timothée Cha...</td>\n",
       "      <td>'Christopher Nolan'</td>\n",
       "      <td>['Suspense', 'Mystery', 'Existential']</td>\n",
       "    </tr>\n",
       "    <tr>\n",
       "      <th>115</th>\n",
       "      <td>John Wick: Chapter 4</td>\n",
       "      <td>2023</td>\n",
       "      <td>['Action', 'Crime', 'Thriller']</td>\n",
       "      <td>['Keanu Reeves']</td>\n",
       "      <td>Chad Stahelski</td>\n",
       "      <td>['Vengeance', 'Honor', 'Tension']</td>\n",
       "    </tr>\n",
       "  </tbody>\n",
       "</table>\n",
       "</div>"
      ],
      "text/plain": [
       "              movie_title  release_year                           genres  \\\n",
       "90               Time Out          2023                        ['Drama']   \n",
       "125        The Woman King          2022   ['Action', 'Drama', 'History']   \n",
       "99              Love Life          2023                        ['Drama']   \n",
       "27         Parallel Earth          2025  ['Sci-Fi', 'Thriller', 'Drama']   \n",
       "115  John Wick: Chapter 4          2023  ['Action', 'Crime', 'Thriller']   \n",
       "\n",
       "                                                actors               director  \\\n",
       "90                  ['Karim Leklou', 'Isaka Sawadogo']           Ève Duchemin   \n",
       "125                     ['Viola Davis', 'Thuso Mbedu']  Gina Prince-Bythewood   \n",
       "99                 ['Fumino Kimura', 'Kento Nagayama']            Kōji Fukada   \n",
       "27   ['Matt Damon', 'Julianne Moore', 'Timothée Cha...    'Christopher Nolan'   \n",
       "115                                   ['Keanu Reeves']         Chad Stahelski   \n",
       "\n",
       "                              emotions_conveyed  \n",
       "90   ['Isolation', 'Hope', 'Emotional Turmoil']  \n",
       "125     ['Empowerment', 'Courage', 'Sacrifice']  \n",
       "99               ['Love', 'Loss', 'Resilience']  \n",
       "27       ['Suspense', 'Mystery', 'Existential']  \n",
       "115           ['Vengeance', 'Honor', 'Tension']  "
      ]
     },
     "execution_count": 13,
     "metadata": {},
     "output_type": "execute_result"
    }
   ],
   "source": [
    "df.sample(5)"
   ]
  },
  {
   "cell_type": "code",
   "execution_count": 5,
   "id": "a3dada3a-013f-4b00-af27-342c9d6074c3",
   "metadata": {},
   "outputs": [],
   "source": [
    "def create_constraints():\n",
    "    with driver.session() as session:\n",
    "        session.run(\"CREATE CONSTRAINT IF NOT EXISTS FOR (m:Movie)     REQUIRE m.title      IS UNIQUE\")\n",
    "        session.run(\"CREATE CONSTRAINT IF NOT EXISTS FOR (a:Actor)     REQUIRE a.name       IS UNIQUE\")\n",
    "        session.run(\"CREATE CONSTRAINT IF NOT EXISTS FOR (d:Director)  REQUIRE d.name       IS UNIQUE\")\n",
    "        session.run(\"CREATE CONSTRAINT IF NOT EXISTS FOR (g:Genre)     REQUIRE g.name       IS UNIQUE\")\n",
    "        session.run(\"CREATE CONSTRAINT IF NOT EXISTS FOR (e:Emotion)   REQUIRE e.name       IS UNIQUE\")\n",
    "        session.run(\"CREATE CONSTRAINT IF NOT EXISTS FOR (r:ReleaseDate) REQUIRE r.year     IS UNIQUE\")\n",
    "\n",
    "\n",
    "create_constraints()\n"
   ]
  },
  {
   "cell_type": "code",
   "execution_count": 17,
   "id": "97aedcb2-a0ba-40e2-8ff8-932ee5c44632",
   "metadata": {},
   "outputs": [],
   "source": [
    "# helper to parse your list‑strings \n",
    "def parse_list_str(s: str) -> list:\n",
    "    \"\"\"\n",
    "    Turn Python‑list‑looking strings (with single quotes) into a real list,\n",
    "    even if items contain apostrophes.\n",
    "    \"\"\"\n",
    "    s = s.strip()\n",
    "    # remove [ and ]\n",
    "    if len(s) >= 2 and s[0] == \"[\" and s[-1] == \"]\":\n",
    "        inner = s[1:-1].strip()\n",
    "    else:\n",
    "        inner = s\n",
    "\n",
    "    if not inner:\n",
    "        return []\n",
    "\n",
    "    # split on the only safe boundary \"', '\"\n",
    "    parts = inner.split(\"', '\")\n",
    "    cleaned = []\n",
    "    for i, p in enumerate(parts):\n",
    "        # first element may start with a quote\n",
    "        if i == 0 and p.startswith(\"'\"):\n",
    "            p = p[1:]\n",
    "        # last element may end with a quote\n",
    "        if i == len(parts)-1 and p.endswith(\"'\"):\n",
    "            p = p[:-1]\n",
    "        cleaned.append(p)\n",
    "    return cleaned\n"
   ]
  },
  {
   "cell_type": "code",
   "execution_count": 19,
   "id": "1ede1fcc-e335-4ac3-860d-dd7a53857886",
   "metadata": {},
   "outputs": [],
   "source": [
    "def import_movies(csv_path: str):\n",
    "    df = pd.read_csv(csv_path)\n",
    "    for col in ['genres', 'actors', 'emotions_conveyed']:\n",
    "        df[col] = df[col].astype(str).apply(parse_list_str)\n",
    "\n",
    "    with driver.session() as session:\n",
    "        for row in df.itertuples(index=False):\n",
    "            title, year, genres, actors, director, emotions = (\n",
    "                row.movie_title,\n",
    "                int(row.release_year),\n",
    "                row.genres,\n",
    "                row.actors,\n",
    "                row.director,\n",
    "                row.emotions_conveyed\n",
    "            )\n",
    "\n",
    "            session.run(\n",
    "                \"\"\"\n",
    "                MERGE (m:Movie {title: $title})\n",
    "                SET m.year = $year\n",
    "                WITH m\n",
    "                MERGE (d:Director {name: $director})\n",
    "                MERGE (m)-[:DIRECTED_BY]->(d)\n",
    "                WITH m\n",
    "                MERGE (r:ReleaseDate {year: $year})\n",
    "                MERGE (m)-[:RELEASED_ON]->(r)\n",
    "                \"\"\",\n",
    "                {\"title\": title, \"year\": year, \"director\": director}\n",
    "            )\n",
    "\n",
    "            for g in genres:\n",
    "                session.run(\n",
    "                    \"\"\"\n",
    "                    MERGE (g:Genre {name: $g})\n",
    "                    WITH g\n",
    "                    MATCH (m:Movie {title: $title})\n",
    "                    MERGE (m)-[:IN_GENRE]->(g)\n",
    "                    \"\"\",\n",
    "                    {\"g\": g, \"title\": title}\n",
    "                )\n",
    "\n",
    "            for a in actors:\n",
    "                session.run(\n",
    "                    \"\"\"\n",
    "                    MERGE (a:Actor {name: $a})\n",
    "                    WITH a\n",
    "                    MATCH (m:Movie {title: $title})\n",
    "                    MERGE (m)-[:ACTED_IN]->(a)\n",
    "                    \"\"\",\n",
    "                    {\"a\": a, \"title\": title}\n",
    "                )\n",
    "\n",
    "            for e in emotions:\n",
    "                session.run(\n",
    "                    \"\"\"\n",
    "                    MERGE (e:Emotion {name: $e})\n",
    "                    WITH e\n",
    "                    MATCH (m:Movie {title: $title})\n",
    "                    MERGE (m)-[:CONVEYS]->(e)\n",
    "                    \"\"\",\n",
    "                    {\"e\": e, \"title\": title}\n",
    "                )\n"
   ]
  },
  {
   "cell_type": "code",
   "execution_count": 21,
   "id": "2943f4b4-4757-4565-a53b-747d8e0fb6fa",
   "metadata": {},
   "outputs": [],
   "source": [
    "import_movies(\"movies.csv\")"
   ]
  },
  {
   "cell_type": "code",
   "execution_count": null,
   "id": "53a493c8-f7ac-45c6-8557-c5baf65dc886",
   "metadata": {},
   "outputs": [],
   "source": [
    "driver.close()"
   ]
  }
 ],
 "metadata": {
  "kernelspec": {
   "display_name": "Python 3 (ipykernel)",
   "language": "python",
   "name": "python3"
  },
  "language_info": {
   "codemirror_mode": {
    "name": "ipython",
    "version": 3
   },
   "file_extension": ".py",
   "mimetype": "text/x-python",
   "name": "python",
   "nbconvert_exporter": "python",
   "pygments_lexer": "ipython3",
   "version": "3.12.4"
  }
 },
 "nbformat": 4,
 "nbformat_minor": 5
}
